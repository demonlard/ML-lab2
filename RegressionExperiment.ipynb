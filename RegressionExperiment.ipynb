{
 "cells": [
  {
   "cell_type": "code",
   "execution_count": 1,
   "metadata": {},
   "outputs": [],
   "source": [
    "from sklearn import datasets as ds\n",
    "from sklearn.model_selection import train_test_split\n",
    "import numpy as np\n",
    "from scipy.sparse import csr_matrix\n",
    "import matplotlib.pyplot as plt\n",
    "import math\n",
    "from math import exp,log\n",
    "from random import randint\n",
    "import random\n",
    "x_train,y_train=ds.load_svmlight_file(\"a9a.txt\")#read data\n",
    "x_train=x_train.toarray()\n",
    "x_train=np.hstack((x_train,np.ones([np.shape(x_train)[0],1])))#add bis to x\n",
    "y_train=y_train.reshape(np.shape(y_train)[0],1)\n",
    "x_test,y_test=ds.load_svmlight_file(\"a9a_t.txt\",n_features=123)#read data\n",
    "x_test=x_test.toarray()\n",
    "x_test=np.hstack((x_test,np.ones([np.shape(x_test)[0],1])))#add bis to x\n",
    "y_test=y_test.reshape(np.shape(y_test)[0],1)\n",
    "\n",
    "n=np.shape(x_train)[0]#n:number of examples\n",
    "m=np.shape(x_train)[1]#m:number of features\n",
    "\n",
    "#loss function\n",
    "def loss(X,Y,W):\n",
    "    n,m=X.shape\n",
    "    l=0\n",
    "    for i in range(n):\n",
    "        l+=math.log((1+exp(-Y[i]*W.T.dot(X[i]))),math.e)\n",
    "    return l/n\n",
    "\n",
    "#graident function\n",
    "def gradient(X,Y,W):\n",
    "    n,m=X.shape\n",
    "    g=0\n",
    "    for i in range(n):\n",
    "        #g+=(Y[i]-exp(W.T.dot(X[i]))/(1+exp(W.T.dot(X[i]))))*X[i]\n",
    "        g-=Y[i]*X[i]/(1+exp(Y[i]*W.T.dot(X[i])))\n",
    "    return (g/n).reshape((g.shape[0],1))"
   ]
  },
  {
   "cell_type": "code",
   "execution_count": 35,
   "metadata": {},
   "outputs": [
    {
     "name": "stdout",
     "output_type": "stream",
     "text": [
      "finished training\n"
     ]
    }
   ],
   "source": [
    "\"\"\"NAG\"\"\"\n",
    "#initialize parameters with zero\n",
    "W=np.zeros((m,1))\n",
    "L_NAG=[]\n",
    "#set hyper_parameter\n",
    "eta=0.1\n",
    "gamma=0.1\n",
    "batch=100\n",
    "\n",
    "v=0\n",
    "#begin training\n",
    "for epoch in range(1500):\n",
    "    #calculate gradient g from partial samples\n",
    "    random.seed()\n",
    "    i=randint(0,n-1-batch)\n",
    "    g=gradient(x_train[i:i+batch].reshape((batch,m)),y_train[i:i+batch].reshape((batch,1)),W-gamma*v)\n",
    "    #update parameter W\n",
    "    v=gamma*v+eta*g\n",
    "    W=W-v\n",
    "    #calculate test loss\n",
    "    l_test=loss(x_test,y_test,W)\n",
    "    L_NAG.append(l_test)\n",
    "print('finished training') "
   ]
  },
  {
   "cell_type": "code",
   "execution_count": 40,
   "metadata": {},
   "outputs": [
    {
     "name": "stdout",
     "output_type": "stream",
     "text": [
      "finished training\n"
     ]
    }
   ],
   "source": [
    "\"\"\"RMSProp\"\"\"\n",
    "#initialize parameters with zero\n",
    "W=np.zeros((m,1))\n",
    "L_RMSProp=[]\n",
    "#set hyper_parameter\n",
    "eta=0.01\n",
    "gamma=0.9\n",
    "epsilon=1e-3\n",
    "batch=100\n",
    "\n",
    "G=0\n",
    "#begin training\n",
    "for epoch in range(1500):\n",
    "    #calculate gradient g from partial samples\n",
    "    random.seed()\n",
    "    i=randint(0,n-1-batch)\n",
    "    g=gradient(x_train[i:i+batch].reshape((batch,m)),y_train[i:i+batch].reshape((batch,1)),W)\n",
    "    #update parameter W\n",
    "    G=gamma*G+(1-gamma)*(g*g)\n",
    "    W=W-eta/np.sqrt(G+epsilon)*g\n",
    "    #calculate test loss\n",
    "    l_test=loss(x_test,y_test,W)\n",
    "    L_RMSProp.append(l_test)\n",
    "print('finished training') "
   ]
  },
  {
   "cell_type": "code",
   "execution_count": 42,
   "metadata": {},
   "outputs": [
    {
     "name": "stdout",
     "output_type": "stream",
     "text": [
      "finished training\n"
     ]
    }
   ],
   "source": [
    "\"\"\"AdaDelta\"\"\"\n",
    "#initialize parameters with zero\n",
    "W=np.zeros((m,1))\n",
    "L_AdaDelta=[]\n",
    "#set hyper_parameter\n",
    "gamma=0.9\n",
    "epsilon=1e-6\n",
    "batch=100\n",
    "\n",
    "G=0\n",
    "dt=0\n",
    "#begin training\n",
    "for epoch in range(1500):\n",
    "    #calculate gradient g from partial samples\n",
    "    random.seed()\n",
    "    i=randint(0,n-1-batch)\n",
    "    g=gradient(x_train[i:i+batch].reshape((batch,m)),y_train[i:i+batch].reshape((batch,1)),W)\n",
    "    #update parameter W\n",
    "    G=gamma*G+(1-gamma)*g*g\n",
    "    dw=-np.sqrt(dt+epsilon)/np.sqrt(G+epsilon)*g\n",
    "    W=W+dw\n",
    "    dt=gamma*dt+(1-gamma)*dw*dw\n",
    "    #calculate test loss\n",
    "    l_test=loss(x_test,y_test,W)\n",
    "    L_AdaDelta.append(l_test)\n",
    "print('finished training') "
   ]
  },
  {
   "cell_type": "code",
   "execution_count": 44,
   "metadata": {},
   "outputs": [
    {
     "name": "stdout",
     "output_type": "stream",
     "text": [
      "finished training\n"
     ]
    }
   ],
   "source": [
    "\"\"\"Adam\"\"\"\n",
    "#initialize parameters with zero\n",
    "W=np.zeros((m,1))\n",
    "L_Adam=[]\n",
    "#set hyper_parameter\n",
    "beta=0.9\n",
    "gamma=0.999\n",
    "eta=0.001\n",
    "epsilon=1e-6\n",
    "batch=100\n",
    "\n",
    "M=0\n",
    "#begin training\n",
    "for epoch in range(1500):\n",
    "    #calculate gradient g from partial samples\n",
    "    i=randint(0,n-1-batch)\n",
    "    g=gradient(x_train[i:i+batch].reshape((batch,m)),y_train[i:i+batch].reshape((batch,1)),W)\n",
    "    #update parameter W\n",
    "    M=beta*M+(1-beta)*g\n",
    "    G=gamma*G+(1-gamma)*g*g\n",
    "    alpha=eta*np.sqrt(1-math.pow(gamma,epoch))/(1-beta)\n",
    "    W=W-alpha*M/np.sqrt(G+epsilon)\n",
    "    #calculate test loss\n",
    "    l_test=loss(x_test,y_test,W)\n",
    "    L_Adam.append(l_test)\n",
    "print('finished training') "
   ]
  },
  {
   "cell_type": "code",
   "execution_count": 45,
   "metadata": {},
   "outputs": [
    {
     "data": {
      "image/png": "[encoded data removed]",
      "text/plain": [
       "<matplotlib.figure.Figure at 0x2b0c9fc5da0>"
      ]
     },
     "metadata": {},
     "output_type": "display_data"
    }
   ],
   "source": [
    "#draw figures\n",
    "plt.ylabel(\"loss\")\n",
    "plt.plot(L_NAG,color='blue',label='L_NAG')\n",
    "plt.plot(L_RMSProp,color='red',label='L_RMSProp')\n",
    "plt.plot(L_AdaDelta,color='green',label='L_AdaDelta')\n",
    "plt.plot(L_Adam,color='yellow',label='L_Adam')\n",
    "plt.legend(loc='upper center',shadow=True,fontsize='x-large')\n",
    "plt.show()"
   ]
  },
  {
   "cell_type": "code",
   "execution_count": null,
   "metadata": {
    "collapsed": true
   },
   "outputs": [],
   "source": []
  }
 ],
 "metadata": {
  "kernelspec": {
   "display_name": "Python 3",
   "language": "python",
   "name": "python3"
  },
  "language_info": {
   "codemirror_mode": {
    "name": "ipython",
    "version": 3
   },
   "file_extension": ".py",
   "mimetype": "text/x-python",
   "name": "python",
   "nbconvert_exporter": "python",
   "pygments_lexer": "ipython3",
   "version": "3.6.3"
  }
 },
 "nbformat": 4,
 "nbformat_minor": 2
}
